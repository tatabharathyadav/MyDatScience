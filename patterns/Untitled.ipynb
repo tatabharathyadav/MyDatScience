{
 "cells": [
  {
   "cell_type": "code",
   "execution_count": 2,
   "id": "a11c0935",
   "metadata": {},
   "outputs": [
    {
     "name": "stdout",
     "output_type": "stream",
     "text": [
      "enter number of rows:6\n",
      "* * * * * * \n",
      "* * * * * * \n",
      "* * * * * * \n",
      "* * * * * * \n",
      "* * * * * * \n",
      "* * * * * * \n"
     ]
    }
   ],
   "source": [
    "n=int(input(\"enter number of rows:\"))\n",
    "for i in range(n):\n",
    "    for j in range(n):\n",
    "        print(\"*\",end=' ')\n",
    "    print()"
   ]
  },
  {
   "cell_type": "code",
   "execution_count": 3,
   "id": "ffd5d330",
   "metadata": {},
   "outputs": [
    {
     "name": "stdout",
     "output_type": "stream",
     "text": [
      "enter number of rows:5\n",
      "* \n",
      "* * \n",
      "* * * \n",
      "* * * * \n",
      "* * * * * \n"
     ]
    }
   ],
   "source": [
    "n=int(input(\"enter number of rows:\"))\n",
    "for i in range(n):\n",
    "    for j in range(i+1):\n",
    "        print(\"*\",end=' ')\n",
    "    print()"
   ]
  },
  {
   "cell_type": "code",
   "execution_count": 4,
   "id": "dda8cc0f",
   "metadata": {},
   "outputs": [
    {
     "name": "stdout",
     "output_type": "stream",
     "text": [
      "enter number of rows:5\n",
      "* * * * * \n",
      "* * * * \n",
      "* * * \n",
      "* * \n",
      "* \n"
     ]
    }
   ],
   "source": [
    "n=int(input(\"enter number of rows:\"))\n",
    "for i in range(n):\n",
    "    for j in range(i,n):\n",
    "        print(\"*\",end=' ')\n",
    "    print()"
   ]
  },
  {
   "cell_type": "code",
   "execution_count": 9,
   "id": "9b45fd41",
   "metadata": {},
   "outputs": [
    {
     "name": "stdout",
     "output_type": "stream",
     "text": [
      "enter number of rows:5\n",
      "          * \n",
      "        * * \n",
      "      * * * \n",
      "    * * * * \n",
      "  * * * * * \n"
     ]
    }
   ],
   "source": [
    "n=int(input(\"enter number of rows:\"))\n",
    "for i in range(n):\n",
    "    for j in range(i,n):\n",
    "        print(\" \",end=' ')\n",
    "    for j in range(i+1):\n",
    "        print(\"*\",end=' ')\n",
    "    print()"
   ]
  },
  {
   "cell_type": "code",
   "execution_count": 8,
   "id": "f682787d",
   "metadata": {},
   "outputs": [
    {
     "name": "stdout",
     "output_type": "stream",
     "text": [
      "enter number of rows:5\n",
      "  * * * * * \n",
      "    * * * * \n",
      "      * * * \n",
      "        * * \n",
      "          * \n"
     ]
    }
   ],
   "source": [
    "n=int(input(\"enter number of rows:\"))\n",
    "for i in range(n):\n",
    "    for j in range(i+1):\n",
    "        print(\" \",end=' ')\n",
    "    for j in range(i,n):\n",
    "        print(\"*\",end=' ')\n",
    "    print()"
   ]
  },
  {
   "cell_type": "code",
   "execution_count": 11,
   "id": "162fe696",
   "metadata": {},
   "outputs": [
    {
     "name": "stdout",
     "output_type": "stream",
     "text": [
      "enter number of rows:5\n",
      "          * \n",
      "        * * * \n",
      "      * * * * * \n",
      "    * * * * * * * \n",
      "  * * * * * * * * * \n"
     ]
    }
   ],
   "source": [
    "n=int(input(\"enter number of rows:\"))\n",
    "for i in range(n):\n",
    "    for j in range(i,n):\n",
    "        print(\" \",end=' ')\n",
    "    for j in range(i):\n",
    "        print(\"*\",end=' ')\n",
    "    for j in range(i+1):\n",
    "        print(\"*\",end=' ')\n",
    "    print()"
   ]
  },
  {
   "cell_type": "code",
   "execution_count": 14,
   "id": "8e19d4ee",
   "metadata": {},
   "outputs": [
    {
     "name": "stdout",
     "output_type": "stream",
     "text": [
      "enter number of rows:5\n",
      "  * * * * * * * * * \n",
      "    * * * * * * * \n",
      "      * * * * * \n",
      "        * * * \n",
      "          * \n"
     ]
    }
   ],
   "source": [
    "n=int(input(\"enter number of rows:\"))\n",
    "for i in range(n):\n",
    "    for j in range(i+1):\n",
    "        print(\" \",end=' ')\n",
    "    for j in range(i+1,n):\n",
    "        print(\"*\",end=' ')\n",
    "    for j in range(i,n):\n",
    "        print(\"*\",end=' ')\n",
    "    print()"
   ]
  },
  {
   "cell_type": "code",
   "execution_count": 15,
   "id": "f82d33ef",
   "metadata": {},
   "outputs": [
    {
     "name": "stdout",
     "output_type": "stream",
     "text": [
      "enter number of rows:10\n",
      "                    * \n",
      "                  * * * \n",
      "                * * * * * \n",
      "              * * * * * * * \n",
      "            * * * * * * * * * \n",
      "          * * * * * * * * * * * \n",
      "        * * * * * * * * * * * * * \n",
      "      * * * * * * * * * * * * * * * \n",
      "    * * * * * * * * * * * * * * * * * \n",
      "  * * * * * * * * * * * * * * * * * * * \n",
      "    * * * * * * * * * * * * * * * * * \n",
      "      * * * * * * * * * * * * * * * \n",
      "        * * * * * * * * * * * * * \n",
      "          * * * * * * * * * * * \n",
      "            * * * * * * * * * \n",
      "              * * * * * * * \n",
      "                * * * * * \n",
      "                  * * * \n",
      "                    * \n"
     ]
    }
   ],
   "source": [
    "n=int(input(\"enter number of rows:\"))\n",
    "for i in range(n-1):\n",
    "    for j in range(i,n):\n",
    "        print(\" \",end=' ')\n",
    "    for j in range(i):\n",
    "        print(\"*\",end=' ')\n",
    "    for j in range(i+1):\n",
    "        print(\"*\",end=' ')\n",
    "    print()\n",
    "for i in range(n):\n",
    "    for j in range(i+1):\n",
    "        print(\" \",end=' ')\n",
    "    for j in range(i+1,n):\n",
    "        print(\"*\",end=' ')\n",
    "    for j in range(i,n):\n",
    "        print(\"*\",end=' ')\n",
    "    print()"
   ]
  },
  {
   "cell_type": "code",
   "execution_count": 22,
   "id": "d107e2a7",
   "metadata": {},
   "outputs": [
    {
     "name": "stdout",
     "output_type": "stream",
     "text": [
      "enter number of rows:5\n",
      "    * \n",
      "   * * \n",
      "  * * * \n",
      " * * * * \n",
      "* * * * * \n"
     ]
    }
   ],
   "source": [
    "n=int(input(\"enter number of rows:\"))\n",
    "for i in range(n):\n",
    "    for j in range(n-i-1):\n",
    "        print(\" \",end=\"\")\n",
    "    for j in range(i+1):\n",
    "        print(\"* \",end=\"\")\n",
    "    print()"
   ]
  },
  {
   "cell_type": "code",
   "execution_count": 20,
   "id": "b4d1bf36",
   "metadata": {},
   "outputs": [
    {
     "name": "stdout",
     "output_type": "stream",
     "text": [
      "    * \n",
      "   * * \n",
      "  * * * \n",
      " * * * * \n",
      "* * * * * \n"
     ]
    }
   ],
   "source": [
    "n = 5  # Number of rows\n",
    "\n",
    "for i in range(n):\n",
    "    # Print spaces\n",
    "    for j in range(n - i - 1):\n",
    "        print(\" \", end=\"\")\n",
    "    \n",
    "    # Print asterisks\n",
    "    for k in range(i + 1):\n",
    "        print(\"* \", end=\"\")\n",
    "    \n",
    "    print()  # Move to the next line\n"
   ]
  },
  {
   "cell_type": "code",
   "execution_count": 23,
   "id": "cbe233cc",
   "metadata": {},
   "outputs": [
    {
     "name": "stdout",
     "output_type": "stream",
     "text": [
      "enter number of rows:5\n",
      "1 \n",
      "1 1 \n",
      "1 1 1 \n",
      "1 1 1 1 \n",
      "1 1 1 1 1 \n"
     ]
    }
   ],
   "source": [
    "n=int(input(\"enter number of rows:\"))\n",
    "for i in range(n):\n",
    "    for j in range(i+1):\n",
    "        print(\"1\",end=' ')\n",
    "    print()"
   ]
  },
  {
   "cell_type": "code",
   "execution_count": 25,
   "id": "8f19b203",
   "metadata": {},
   "outputs": [
    {
     "name": "stdout",
     "output_type": "stream",
     "text": [
      "enter number of rows:5\n",
      "1 \n",
      "2 2 \n",
      "3 3 3 \n",
      "4 4 4 4 \n",
      "5 5 5 5 5 \n"
     ]
    }
   ],
   "source": [
    "n=int(input(\"enter number of rows:\"))\n",
    "p=1\n",
    "for i in range(n):\n",
    "    for j in range(i+1):\n",
    "        print(p,end=' ')\n",
    "    p+=1\n",
    "    print()"
   ]
  },
  {
   "cell_type": "code",
   "execution_count": 26,
   "id": "0044a337",
   "metadata": {},
   "outputs": [
    {
     "name": "stdout",
     "output_type": "stream",
     "text": [
      "enter number of rows:5\n",
      "5 \n",
      "4 4 \n",
      "3 3 3 \n",
      "2 2 2 2 \n",
      "1 1 1 1 1 \n"
     ]
    }
   ],
   "source": [
    "n=int(input(\"enter number of rows:\"))\n",
    "p=n\n",
    "for i in range(n):\n",
    "    for j in range(i+1):\n",
    "        print(p,end=' ')\n",
    "    p-=1\n",
    "    print()"
   ]
  },
  {
   "cell_type": "code",
   "execution_count": 27,
   "id": "d0fe896b",
   "metadata": {},
   "outputs": [
    {
     "name": "stdout",
     "output_type": "stream",
     "text": [
      "enter number of rows:5\n",
      "0 \n",
      "2 2 \n",
      "4 4 4 \n",
      "6 6 6 6 \n",
      "8 8 8 8 8 \n"
     ]
    }
   ],
   "source": [
    "n=int(input(\"enter number of rows:\"))\n",
    "p=0\n",
    "for i in range(n):\n",
    "    for j in range(i+1):\n",
    "        print(p,end=' ')\n",
    "    p+=2\n",
    "    print()"
   ]
  },
  {
   "cell_type": "code",
   "execution_count": 28,
   "id": "39a164a2",
   "metadata": {},
   "outputs": [
    {
     "name": "stdout",
     "output_type": "stream",
     "text": [
      "enter number of rows:5\n",
      "1 \n",
      "2 2 \n",
      "1 1 1 \n",
      "2 2 2 2 \n",
      "1 1 1 1 1 \n"
     ]
    }
   ],
   "source": [
    "n=int(input(\"enter number of rows:\"))\n",
    "for i in range(n):\n",
    "    for j in range(i+1):\n",
    "        if(i%2==0):\n",
    "            print(\"1\",end=' ')\n",
    "        else:\n",
    "            print(\"2\",end=' ')\n",
    "    print()"
   ]
  },
  {
   "cell_type": "code",
   "execution_count": 30,
   "id": "730b8efa",
   "metadata": {},
   "outputs": [
    {
     "name": "stdout",
     "output_type": "stream",
     "text": [
      "enter number of rows:5\n",
      "          1 \n",
      "        2 2 2 \n",
      "      3 3 3 3 3 \n",
      "    4 4 4 4 4 4 4 \n",
      "  5 5 5 5 5 5 5 5 5 \n",
      "    6 6 6 6 6 6 6 \n",
      "      7 7 7 7 7 \n",
      "        8 8 8 \n",
      "          9 \n"
     ]
    }
   ],
   "source": [
    "n=int(input(\"enter number of rows:\"))\n",
    "p=1\n",
    "for i in range(n-1):\n",
    "    for j in range(i,n):\n",
    "        print(\" \",end=' ')\n",
    "    for j in range(i):\n",
    "        print(p,end=' ')\n",
    "    for j in range(i+1):\n",
    "        print(p,end=' ')\n",
    "    p=p+1\n",
    "    print()\n",
    "p=n\n",
    "for i in range(n):\n",
    "    for j in range(i+1):\n",
    "        print(\" \",end=' ')\n",
    "    for j in range(i+1,n):\n",
    "        print(p,end=' ')\n",
    "    for j in range(i,n):\n",
    "        print(p,end=' ')\n",
    "    p+=1\n",
    "    print()"
   ]
  },
  {
   "cell_type": "code",
   "execution_count": 31,
   "id": "9d3fc1ec",
   "metadata": {},
   "outputs": [
    {
     "name": "stdout",
     "output_type": "stream",
     "text": [
      "enter number of rows:5\n",
      "          1 \n",
      "        2 2 2 \n",
      "      3 3 3 3 3 \n",
      "    4 4 4 4 4 4 4 \n",
      "  5 5 5 5 5 5 5 5 5 \n",
      "    4 4 4 4 4 4 4 \n",
      "      3 3 3 3 3 \n",
      "        2 2 2 \n",
      "          1 \n"
     ]
    }
   ],
   "source": [
    "n=int(input(\"enter number of rows:\"))\n",
    "p=1\n",
    "for i in range(n-1):\n",
    "    for j in range(i,n):\n",
    "        print(\" \",end=' ')\n",
    "    for j in range(i):\n",
    "        print(p,end=' ')\n",
    "    for j in range(i+1):\n",
    "        print(p,end=' ')\n",
    "    p=p+1\n",
    "    print()\n",
    "p=n\n",
    "for i in range(n):\n",
    "    for j in range(i+1):\n",
    "        print(\" \",end=' ')\n",
    "    for j in range(i+1,n):\n",
    "        print(p,end=' ')\n",
    "    for j in range(i,n):\n",
    "        print(p,end=' ')\n",
    "    p-=1\n",
    "    print()"
   ]
  },
  {
   "cell_type": "code",
   "execution_count": 33,
   "id": "46f966d6",
   "metadata": {},
   "outputs": [
    {
     "name": "stdout",
     "output_type": "stream",
     "text": [
      "enter number of rows:5\n",
      "1 \n",
      "1 2 \n",
      "1 2 3 \n",
      "1 2 3 4 \n",
      "1 2 3 4 5 \n"
     ]
    }
   ],
   "source": [
    "n=int(input(\"enter number of rows:\"))\n",
    "for i in range(n):\n",
    "    p=1\n",
    "    for j in range(i+1):\n",
    "        print(p,end=' ')\n",
    "        p+=1\n",
    "    print()"
   ]
  },
  {
   "cell_type": "code",
   "execution_count": 35,
   "id": "01003614",
   "metadata": {},
   "outputs": [
    {
     "name": "stdout",
     "output_type": "stream",
     "text": [
      "enter number of rows:5\n",
      "  1 2 3 4 5 \n",
      "    1 2 3 4 \n",
      "      1 2 3 \n",
      "        1 2 \n",
      "          1 \n"
     ]
    }
   ],
   "source": [
    "n=int(input(\"enter number of rows:\"))\n",
    "for i in range(n):\n",
    "    p=1\n",
    "    for j in range(i+1):\n",
    "        print(\" \",end=' ')\n",
    "    for j in range(i,n):\n",
    "        print(p,end=' ')\n",
    "        p=p+1\n",
    "    print()"
   ]
  },
  {
   "cell_type": "code",
   "execution_count": 36,
   "id": "cf1521a7",
   "metadata": {},
   "outputs": [
    {
     "name": "stdout",
     "output_type": "stream",
     "text": [
      "enter number of rows:5\n",
      "          1 \n",
      "        1 2 3 \n",
      "      1 2 3 4 5 \n",
      "    1 2 3 4 5 6 7 \n",
      "  1 2 3 4 5 6 7 8 9 \n"
     ]
    }
   ],
   "source": [
    "n=int(input(\"enter number of rows:\"))\n",
    "for i in range(n):\n",
    "    p=1\n",
    "    for j in range(i,n):\n",
    "        print(\" \",end=' ')\n",
    "    for j in range(i):\n",
    "        print(p,end=' ')\n",
    "        p+=1\n",
    "    for j in range(i+1):\n",
    "        print(p,end=' ')\n",
    "        p+=1\n",
    "    print()"
   ]
  },
  {
   "cell_type": "code",
   "execution_count": 42,
   "id": "e7c8700b",
   "metadata": {},
   "outputs": [
    {
     "name": "stdout",
     "output_type": "stream",
     "text": [
      "enter number of rows:3\n",
      "      1 \n",
      "    1 2 3 \n",
      "  3 2 1 0 -1 \n",
      "    3 2 1 \n",
      "      3 \n"
     ]
    }
   ],
   "source": [
    "n=int(input(\"enter number of rows:\"))\n",
    "for i in range(n-1):\n",
    "    p=1\n",
    "    for j in range(i,n):\n",
    "        print(\" \",end=' ')\n",
    "    for j in range(i):\n",
    "        print(p,end=' ')\n",
    "        p+=1\n",
    "    for j in range(i+1):\n",
    "        print(p,end=' ')\n",
    "        p+=1\n",
    "    print()\n",
    "for i in range(n):\n",
    "    p=n\n",
    "    for j in range(i+1):\n",
    "        print(\" \",end=' ')\n",
    "    for j in range(i+1,n):\n",
    "        print(p,end=' ')\n",
    "        p-=1\n",
    "    for j in range(i,n):\n",
    "        print(p,end=' ')\n",
    "        p-=1\n",
    "    print()"
   ]
  },
  {
   "cell_type": "code",
   "execution_count": 41,
   "id": "94df54b5",
   "metadata": {},
   "outputs": [
    {
     "name": "stdout",
     "output_type": "stream",
     "text": [
      "enter number of rows:5\n",
      "          1 \n",
      "        1 1 2 \n",
      "      1 1 1 2 3 \n",
      "    1 1 1 1 2 3 4 \n",
      "  5 5 5 5 5 4 3 2 1 \n",
      "    5 5 5 5 4 3 2 \n",
      "      5 5 5 4 3 \n",
      "        5 5 4 \n",
      "          5 \n"
     ]
    }
   ],
   "source": []
  },
  {
   "cell_type": "code",
   "execution_count": null,
   "id": "404b109f",
   "metadata": {},
   "outputs": [],
   "source": []
  }
 ],
 "metadata": {
  "kernelspec": {
   "display_name": "Python 3 (ipykernel)",
   "language": "python",
   "name": "python3"
  },
  "language_info": {
   "codemirror_mode": {
    "name": "ipython",
    "version": 3
   },
   "file_extension": ".py",
   "mimetype": "text/x-python",
   "name": "python",
   "nbconvert_exporter": "python",
   "pygments_lexer": "ipython3",
   "version": "3.9.12"
  }
 },
 "nbformat": 4,
 "nbformat_minor": 5
}
